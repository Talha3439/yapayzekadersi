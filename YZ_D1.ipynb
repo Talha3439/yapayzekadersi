{
  "nbformat": 4,
  "nbformat_minor": 0,
  "metadata": {
    "colab": {
      "provenance": []
    },
    "kernelspec": {
      "name": "python3",
      "display_name": "Python 3"
    },
    "language_info": {
      "name": "python"
    }
  },
  "cells": [
    {
      "cell_type": "markdown",
      "source": [
        "Merhaba 2025 Yaz Okulu Yapay Zeka Dersi\n",
        "\n",
        "Google Colab üzerinden ilk kod denemesidir."
      ],
      "metadata": {
        "id": "5ijxUgX47HYL"
      }
    },
    {
      "cell_type": "markdown",
      "source": [
        "Merhaba 2025 Yaz Okulu Yapay Zeka Dersi\n",
        "\n",
        "*   Liste öğesi\n",
        "*   Liste öğesi\n",
        "\n"
      ],
      "metadata": {
        "id": "kjh5MvQ4vYXh"
      }
    },
    {
      "cell_type": "code",
      "source": [
        "print(\"Merhaba IGU MYO Yaz Okulu YZ Dersi\")"
      ],
      "metadata": {
        "colab": {
          "base_uri": "https://localhost:8080/"
        },
        "id": "mhteENDCvPrq",
        "outputId": "ce2cf078-adf1-452e-9824-24765a3f0cfd"
      },
      "execution_count": 1,
      "outputs": [
        {
          "output_type": "stream",
          "name": "stdout",
          "text": [
            "Merhaba IGU MYO Yaz Okulu YZ Dersi\n"
          ]
        }
      ]
    },
    {
      "cell_type": "code",
      "source": [
        "import sys # import python programlama dilinde yazılıma kütüphane eklemeye yarayan bir kod blogudur.\n",
        "print(sys.version)"
      ],
      "metadata": {
        "colab": {
          "base_uri": "https://localhost:8080/"
        },
        "id": "vVLThQV9ug4y",
        "outputId": "b541dbb9-d397-4503-8838-d38db9be5ddf"
      },
      "execution_count": 2,
      "outputs": [
        {
          "output_type": "stream",
          "name": "stdout",
          "text": [
            "3.11.13 (main, Jun  4 2025, 08:57:29) [GCC 11.4.0]\n"
          ]
        }
      ]
    },
    {
      "cell_type": "code",
      "source": [
        "from google.colab import drive # google colab - drive bağlantısı\n",
        "\n",
        "drive.mount('/content/drive')"
      ],
      "metadata": {
        "colab": {
          "base_uri": "https://localhost:8080/"
        },
        "id": "BqsYZHVT0kSD",
        "outputId": "9b37f36d-60f2-443e-8e50-6efcfce8b341"
      },
      "execution_count": 3,
      "outputs": [
        {
          "output_type": "stream",
          "name": "stdout",
          "text": [
            "Mounted at /content/drive\n"
          ]
        }
      ]
    },
    {
      "cell_type": "code",
      "source": [
        "import os\n",
        "\n",
        "os.chdir('/content/drive/My Drive/YapayZekaYaz2025')\n",
        "\n",
        "!pwd # bize kodun çıktısını dosya yolu olarak veren kod blogudur."
      ],
      "metadata": {
        "colab": {
          "base_uri": "https://localhost:8080/"
        },
        "id": "YZa4WoO16MET",
        "outputId": "b4aa0f49-2876-48eb-af94-7d749ff84541"
      },
      "execution_count": 5,
      "outputs": [
        {
          "output_type": "stream",
          "name": "stdout",
          "text": [
            "/content/drive/My Drive/YapayZekaYaz2025\n"
          ]
        }
      ]
    },
    {
      "cell_type": "code",
      "source": [
        "bilgi"
      ],
      "metadata": {
        "id": "RJ46LBYYvPyQ"
      },
      "execution_count": null,
      "outputs": []
    }
  ]
}